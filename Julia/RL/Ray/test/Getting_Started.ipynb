{
 "cells": [
  {
   "cell_type": "markdown",
   "metadata": {},
   "source": [
    "# Tutorial"
   ]
  },
  {
   "cell_type": "markdown",
   "metadata": {},
   "source": [
    "### Overview"
   ]
  },
  {
   "cell_type": "code",
   "execution_count": 32,
   "metadata": {},
   "outputs": [],
   "source": [
    "import ray\n",
    "import time"
   ]
  },
  {
   "cell_type": "raw",
   "metadata": {},
   "source": [
    "@ray.remote\n",
    "def f():\n",
    "    time.sleep(1)\n",
    "    return 1\n",
    "\n",
    "\n",
    "#ray.init()\n",
    "results = ray.get([f.remote() for i in range(4)])\n",
    "results"
   ]
  },
  {
   "cell_type": "markdown",
   "metadata": {},
   "source": [
    "### put and get\n",
    "\n",
    "在python object与ray的object IDs进行转换"
   ]
  },
  {
   "cell_type": "code",
   "execution_count": 15,
   "metadata": {},
   "outputs": [
    {
     "data": {
      "text/plain": [
       "'123'"
      ]
     },
     "execution_count": 15,
     "metadata": {},
     "output_type": "execute_result"
    }
   ],
   "source": [
    "x=\"123\"\n",
    "Objectid=ray.put(x)\n",
    "ray.get(Objectid)"
   ]
  },
  {
   "cell_type": "code",
   "execution_count": 16,
   "metadata": {},
   "outputs": [
    {
     "data": {
      "text/plain": [
       "[0, 1, 2, 3, 4, 5, 6, 7, 8, 9]"
      ]
     },
     "execution_count": 16,
     "metadata": {},
     "output_type": "execute_result"
    }
   ],
   "source": [
    "result_ids = [ray.put(i) for i in range(10)]\n",
    "ray.get(result_ids)"
   ]
  },
  {
   "cell_type": "markdown",
   "metadata": {},
   "source": [
    "### Asynchronous Computation in Ray"
   ]
  },
  {
   "cell_type": "markdown",
   "metadata": {},
   "source": [
    "#### Remote functions\n",
    "\n",
    "核心是submitting a task与executing the task的区别\n",
    "\n",
    "提交一个task到local scheduler会立即返回一个object ID，但是并不一定执行了函数。函数的执行要等到所有的input都满足后才会被触发(这不是lazily方式)"
   ]
  },
  {
   "cell_type": "code",
   "execution_count": 23,
   "metadata": {},
   "outputs": [
    {
     "name": "stdout",
     "output_type": "stream",
     "text": [
      "[None, None, None, None]\n",
      "4.005740404129028\n",
      "[None, None, None, None]\n",
      "1.011054277420044\n"
     ]
    }
   ],
   "source": [
    "import time\n",
    "\n",
    "# 普通函数\n",
    "def f1():\n",
    "    time.sleep(1)\n",
    "\n",
    "# remote function\n",
    "@ray.remote\n",
    "def f2():\n",
    "    time.sleep(1)\n",
    "\n",
    "start=time.time()    \n",
    "# The following takes 4 seconds.\n",
    "print([f1() for _ in range(4)])\n",
    "print(time.time()-start)\n",
    "\n",
    "start=time.time() \n",
    "# The following takes one second (assuming the system has at least 4 CPUs).\n",
    "print(ray.get([f2.remote() for _ in range(4)]))\n",
    "print(time.time()-start)"
   ]
  },
  {
   "cell_type": "markdown",
   "metadata": {},
   "source": [
    "传参可以是value也可以是object ID\n",
    "\n",
    "返回值是object ID而不是真实的value"
   ]
  },
  {
   "cell_type": "code",
   "execution_count": 29,
   "metadata": {},
   "outputs": [
    {
     "data": {
      "text/plain": [
       "(ObjectID(01000000e248859342018871404e42efd905d73e),\n",
       " 3,\n",
       " ObjectID(01000000cfb2eb2f5132c6af4028813b23fead38),\n",
       " 3,\n",
       " ObjectID(01000000a6387379a472809cf8731d415412446e),\n",
       " 3)"
      ]
     },
     "execution_count": 29,
     "metadata": {},
     "output_type": "execute_result"
    }
   ],
   "source": [
    "@ray.remote\n",
    "def add2(a, b):\n",
    "    return a + b\n",
    "\n",
    "a=add2.remote(1, 2)\n",
    "b=add2.remote(1, ray.put(2))\n",
    "c=add2.remote(ray.put(1), ray.put(2))\n",
    "\n",
    "a,ray.get(a),b,ray.get(b),c,ray.get(c)"
   ]
  },
  {
   "cell_type": "markdown",
   "metadata": {},
   "source": [
    "可以返回多个object IDs"
   ]
  },
  {
   "cell_type": "code",
   "execution_count": 31,
   "metadata": {},
   "outputs": [],
   "source": [
    "@ray.remote(num_return_vals=3)\n",
    "def return_multiple():\n",
    "    return 1, 2, 3\n",
    "\n",
    "a_id, b_id, c_id = return_multiple.remote()"
   ]
  },
  {
   "cell_type": "markdown",
   "metadata": {},
   "source": [
    "#### tasks之间的依赖性"
   ]
  },
  {
   "cell_type": "code",
   "execution_count": 34,
   "metadata": {},
   "outputs": [
    {
     "data": {
      "text/plain": [
       "3"
      ]
     },
     "execution_count": 34,
     "metadata": {},
     "output_type": "execute_result"
    }
   ],
   "source": [
    "@ray.remote\n",
    "def f(x):\n",
    "    return x + 1\n",
    "\n",
    "x = f.remote(0)\n",
    "y = f.remote(x) #在x之后执行\n",
    "z = f.remote(y) #在y之后执行\n",
    "ray.get(z) # 3"
   ]
  },
  {
   "cell_type": "markdown",
   "metadata": {},
   "source": [
    "#### remote function 的嵌套"
   ]
  },
  {
   "cell_type": "markdown",
   "metadata": {},
   "source": [
    "worker进程也可以调用remote function"
   ]
  },
  {
   "cell_type": "code",
   "execution_count": 51,
   "metadata": {},
   "outputs": [
    {
     "data": {
      "text/plain": [
       "[45, 55, 65, 75, 85]"
      ]
     },
     "execution_count": 51,
     "metadata": {},
     "output_type": "execute_result"
    }
   ],
   "source": [
    "@ray.remote\n",
    "def sub_experiment(i, j):\n",
    "    # Run the jth sub-experiment for the ith experiment.\n",
    "    return i + j\n",
    "\n",
    "@ray.remote\n",
    "def run_experiment(i):\n",
    "    sub_results = []\n",
    "    # Launch tasks to perform 10 sub-experiments in parallel.\n",
    "    for j in range(10):\n",
    "        sub_results.append(sub_experiment.remote(i, j))\n",
    "    # Return the sum of the results of the sub-experiments.\n",
    "    return sum(ray.get(sub_results))\n",
    "\n",
    "results = [run_experiment.remote(i) for i in range(5)]\n",
    "ray.get(results) # [45, 55, 65, 75, 85]"
   ]
  },
  {
   "cell_type": "markdown",
   "metadata": {},
   "source": [
    "# Actors"
   ]
  },
  {
   "cell_type": "markdown",
   "metadata": {},
   "source": [
    "#### 定义，创建，使用actor\n",
    "\n",
    "Counter class 的instance是actor"
   ]
  },
  {
   "cell_type": "code",
   "execution_count": 52,
   "metadata": {},
   "outputs": [],
   "source": [
    "@ray.remote\n",
    "class Counter(object):\n",
    "    def __init__(self):\n",
    "        self.value = 0\n",
    "\n",
    "    def increment(self):\n",
    "        self.value += 1\n",
    "        return self.value"
   ]
  },
  {
   "cell_type": "code",
   "execution_count": 56,
   "metadata": {},
   "outputs": [],
   "source": [
    "a1 = Counter.remote()\n",
    "a2 = Counter.remote()"
   ]
  },
  {
   "cell_type": "markdown",
   "metadata": {},
   "source": [
    "1. 在集群中选择一个node, 在该node上，一个worker进程被创建，目的是当调用actor的method时候执行它\n",
    "2. 在该worker上，一个Counter object被创建，构造器被执行"
   ]
  },
  {
   "cell_type": "code",
   "execution_count": 65,
   "metadata": {},
   "outputs": [
    {
     "data": {
      "text/plain": [
       "(6, 6)"
      ]
     },
     "execution_count": 65,
     "metadata": {},
     "output_type": "execute_result"
    }
   ],
   "source": [
    "v1=a1.increment.remote()  # ray.get returns 1,多次执行则会依次增加\n",
    "v2=a2.increment.remote()  # ray.get returns 1\n",
    "ray.get(v1),ray.get(v2)"
   ]
  },
  {
   "cell_type": "markdown",
   "metadata": {},
   "source": [
    "当a1.increment.remote()被调用时，执行如下\n",
    "\n",
    "1. 一个task被创建\n",
    "\n",
    "2. task被之间传递到本地的调度器（创建actor的那个），不然就传递到global调度器\n",
    "\n",
    "3. 返回一个objectID\n",
    "\n",
    "由于a1,a2是不同的actor，它们可以并行执行\n",
    "\n",
    "同时，执行同一个actor比如a1上的method就会被串行执行"
   ]
  },
  {
   "cell_type": "code",
   "execution_count": 67,
   "metadata": {},
   "outputs": [
    {
     "name": "stdout",
     "output_type": "stream",
     "text": [
      "[1, 1, 1, 1, 1, 1, 1, 1, 1, 1]\n",
      "[2, 3, 4, 5, 6]\n"
     ]
    }
   ],
   "source": [
    "# Create ten Counter actors.\n",
    "counters = [Counter.remote() for _ in range(10)]\n",
    "\n",
    "# Increment each Counter once and get the results. These tasks all happen in\n",
    "# parallel.\n",
    "results = ray.get([c.increment.remote() for c in counters])\n",
    "print(results)  # prints [1, 1, 1, 1, 1, 1, 1, 1, 1, 1]\n",
    "\n",
    "# Increment the first Counter five times. These tasks are executed serially\n",
    "# and share state.\n",
    "results = ray.get([counters[0].increment.remote() for _ in range(5)])\n",
    "print(results)  # prints [2, 3, 4, 5, 6]"
   ]
  },
  {
   "cell_type": "code",
   "execution_count": 72,
   "metadata": {},
   "outputs": [],
   "source": [
    "import gym\n",
    "\n",
    "@ray.remote\n",
    "class GymEnvironment(object):\n",
    "    def __init__(self, name):\n",
    "        self.env = gym.make(name)\n",
    "        self.env.reset()\n",
    "\n",
    "    def step(self, action):\n",
    "        return self.env.step(action)\n",
    "\n",
    "    def reset(self):\n",
    "        self.env.reset()\n",
    "        \n",
    "pong = GymEnvironment.remote(\"Pong-v0\")\n",
    "a=pong.step.remote(0)  # Take action 0 in the simulator."
   ]
  },
  {
   "cell_type": "markdown",
   "metadata": {},
   "source": [
    "gym 提供一些测试和训练强化学习agent的simulated env接口"
   ]
  },
  {
   "cell_type": "markdown",
   "metadata": {},
   "source": [
    "执行下面的部分需要安装tensorflow-gpu直接使用pip如果找不到源，可以使用[tensorflow pip](https://www.tensorflow.org/install/pip)下载\n",
    "\n",
    "然后使用`pip install -U [link to wheel]`安装\n",
    "\n",
    "此处仍有问题，使用`yaourt`\n",
    "\n",
    "```\n",
    "pacman -S nvidia cuda cudnn\n",
    "yaourt tensorflow\n",
    "```\n",
    "使用带GPU的那个"
   ]
  },
  {
   "cell_type": "code",
   "execution_count": null,
   "metadata": {},
   "outputs": [
    {
     "name": "stderr",
     "output_type": "stream",
     "text": [
      "Process STDOUT and STDERR is being redirected to /tmp/ray/session_2018-10-26_20-20-23_14865/logs.\n",
      "Waiting for redis server at 127.0.0.1:41953 to respond...\n",
      "Waiting for redis server at 127.0.0.1:42267 to respond...\n",
      "Starting the Plasma object store with 1.61 GB memory.\n",
      "\n",
      "======================================================================\n",
      "View the web UI at http://localhost:8889/notebooks/ray_ui.ipynb?token=5edb455591b177a63c98bb738cf39120c13a7764458664a5\n",
      "======================================================================\n",
      "\n"
     ]
    },
    {
     "name": "stdout",
     "output_type": "stream",
     "text": [
      "WARNING:tensorflow:From <ipython-input-1-112d87dae449>:51: read_data_sets (from tensorflow.contrib.learn.python.learn.datasets.mnist) is deprecated and will be removed in a future version.\n",
      "Instructions for updating:\n",
      "Please use alternatives such as official/mnist/dataset.py from tensorflow/models.\n"
     ]
    },
    {
     "name": "stderr",
     "output_type": "stream",
     "text": [
      "From <ipython-input-1-112d87dae449>:51: read_data_sets (from tensorflow.contrib.learn.python.learn.datasets.mnist) is deprecated and will be removed in a future version.\n",
      "Instructions for updating:\n",
      "Please use alternatives such as official/mnist/dataset.py from tensorflow/models.\n"
     ]
    },
    {
     "name": "stdout",
     "output_type": "stream",
     "text": [
      "WARNING:tensorflow:From /usr/lib/python3.7/site-packages/tensorflow/contrib/learn/python/learn/datasets/mnist.py:260: maybe_download (from tensorflow.contrib.learn.python.learn.datasets.base) is deprecated and will be removed in a future version.\n",
      "Instructions for updating:\n",
      "Please write your own downloading logic.\n"
     ]
    },
    {
     "name": "stderr",
     "output_type": "stream",
     "text": [
      "From /usr/lib/python3.7/site-packages/tensorflow/contrib/learn/python/learn/datasets/mnist.py:260: maybe_download (from tensorflow.contrib.learn.python.learn.datasets.base) is deprecated and will be removed in a future version.\n",
      "Instructions for updating:\n",
      "Please write your own downloading logic.\n"
     ]
    },
    {
     "name": "stdout",
     "output_type": "stream",
     "text": [
      "WARNING:tensorflow:From /usr/lib/python3.7/site-packages/tensorflow/contrib/learn/python/learn/datasets/base.py:252: _internal_retry.<locals>.wrap.<locals>.wrapped_fn (from tensorflow.contrib.learn.python.learn.datasets.base) is deprecated and will be removed in a future version.\n",
      "Instructions for updating:\n",
      "Please use urllib or similar directly.\n"
     ]
    },
    {
     "name": "stderr",
     "output_type": "stream",
     "text": [
      "From /usr/lib/python3.7/site-packages/tensorflow/contrib/learn/python/learn/datasets/base.py:252: _internal_retry.<locals>.wrap.<locals>.wrapped_fn (from tensorflow.contrib.learn.python.learn.datasets.base) is deprecated and will be removed in a future version.\n",
      "Instructions for updating:\n",
      "Please use urllib or similar directly.\n"
     ]
    }
   ],
   "source": [
    "import os\n",
    "import ray\n",
    "import tensorflow as tf\n",
    "from tensorflow.examples.tutorials.mnist import input_data\n",
    "\n",
    "ray.init(num_gpus=8)\n",
    "\n",
    "def construct_network():\n",
    "    x = tf.placeholder(tf.float32, [None, 784])\n",
    "    y_ = tf.placeholder(tf.float32, [None, 10])\n",
    "\n",
    "    W = tf.Variable(tf.zeros([784, 10]))\n",
    "    b = tf.Variable(tf.zeros([10]))\n",
    "    y = tf.nn.softmax(tf.matmul(x, W) + b)\n",
    "\n",
    "    cross_entropy = tf.reduce_mean(-tf.reduce_sum(y_ * tf.log(y), reduction_indices=[1]))\n",
    "    train_step = tf.train.GradientDescentOptimizer(0.5).minimize(cross_entropy)\n",
    "    correct_prediction = tf.equal(tf.argmax(y,1), tf.argmax(y_,1))\n",
    "    accuracy = tf.reduce_mean(tf.cast(correct_prediction, tf.float32))\n",
    "\n",
    "    return x, y_, train_step, accuracy\n",
    "\n",
    "@ray.remote(num_gpus=1)\n",
    "class NeuralNetOnGPU(object):\n",
    "    def __init__(self, mnist_data):\n",
    "        self.mnist = mnist_data\n",
    "        # Set an environment variable to tell TensorFlow which GPUs to use. Note\n",
    "        # that this must be done before the call to tf.Session.\n",
    "        os.environ[\"CUDA_VISIBLE_DEVICES\"] = \",\".join([str(i) for i in ray.get_gpu_ids()])\n",
    "        with tf.Graph().as_default():\n",
    "            with tf.device(\"/gpu:0\"):\n",
    "                self.x, self.y_, self.train_step, self.accuracy = construct_network()\n",
    "                # Allow this to run on CPUs if there aren't any GPUs.\n",
    "                config = tf.ConfigProto(allow_soft_placement=True)\n",
    "                self.sess = tf.Session(config=config)\n",
    "                # Initialize the network.\n",
    "                init = tf.global_variables_initializer()\n",
    "                self.sess.run(init)\n",
    "\n",
    "    def train(self, num_steps):\n",
    "        for _ in range(num_steps):\n",
    "            batch_xs, batch_ys = self.mnist.train.next_batch(100)\n",
    "            self.sess.run(self.train_step, feed_dict={self.x: batch_xs, self.y_: batch_ys})\n",
    "\n",
    "    def get_accuracy(self):\n",
    "        return self.sess.run(self.accuracy, feed_dict={self.x: self.mnist.test.images,\n",
    "                                                       self.y_: self.mnist.test.labels})\n",
    "\n",
    "\n",
    "# Load the MNIST dataset and tell Ray how to serialize the custom classes.\n",
    "mnist = input_data.read_data_sets(\"MNIST_data\", one_hot=True)\n",
    "\n",
    "# Create the actor.\n",
    "nn = NeuralNetOnGPU.remote(mnist)\n",
    "\n",
    "# Run a few steps of training and print the accuracy.\n",
    "nn.train.remote(100)\n",
    "accuracy = ray.get(nn.get_accuracy.remote())\n",
    "print(\"Accuracy is {}.\".format(accuracy))"
   ]
  },
  {
   "cell_type": "markdown",
   "metadata": {},
   "source": [
    "# Web UI"
   ]
  },
  {
   "cell_type": "markdown",
   "metadata": {},
   "source": [
    "安装如下内容`pip install jupyter ipywidgets bokeh`\n",
    "\n",
    "在`ray.init()`时候就会显示\n",
    "\n",
    "然后跳转之后需要`restart and run all`\n",
    "\n",
    "用于debug,具体的使用参见[Web UI](https://ray.readthedocs.io/en/latest/webui.html)"
   ]
  },
  {
   "cell_type": "code",
   "execution_count": 1,
   "metadata": {},
   "outputs": [],
   "source": [
    "import ray"
   ]
  },
  {
   "cell_type": "code",
   "execution_count": 2,
   "metadata": {},
   "outputs": [
    {
     "name": "stderr",
     "output_type": "stream",
     "text": [
      "Process STDOUT and STDERR is being redirected to /tmp/ray/session_2018-10-26_19-56-07_12586/logs.\n",
      "Waiting for redis server at 127.0.0.1:10232 to respond...\n",
      "Waiting for redis server at 127.0.0.1:39145 to respond...\n",
      "Starting the Plasma object store with 1.61 GB memory.\n",
      "\n",
      "======================================================================\n",
      "View the web UI at http://localhost:8889/notebooks/ray_ui.ipynb?token=1ffbf3ad7ec306b7b7f8a03c63278a8865128c9a4be8ea46\n",
      "======================================================================\n",
      "\n"
     ]
    },
    {
     "data": {
      "text/plain": [
       "{'node_ip_address': '114.214.177.98',\n",
       " 'redis_address': '114.214.177.98:10232',\n",
       " 'object_store_addresses': [ObjectStoreAddress(name='/tmp/ray/session_2018-10-26_19-56-07_12586/sockets/plasma_store', manager_name=None, manager_port=None)],\n",
       " 'local_scheduler_socket_names': [],\n",
       " 'raylet_socket_names': ['/tmp/ray/session_2018-10-26_19-56-07_12586/sockets/raylet'],\n",
       " 'webui_url': 'http://localhost:8889/notebooks/ray_ui.ipynb?token=1ffbf3ad7ec306b7b7f8a03c63278a8865128c9a4be8ea46'}"
      ]
     },
     "execution_count": 2,
     "metadata": {},
     "output_type": "execute_result"
    }
   ],
   "source": [
    "ray.init()"
   ]
  },
  {
   "cell_type": "code",
   "execution_count": null,
   "metadata": {},
   "outputs": [],
   "source": []
  }
 ],
 "metadata": {
  "kernelspec": {
   "display_name": "Python 3",
   "language": "python",
   "name": "python3"
  },
  "language_info": {
   "codemirror_mode": {
    "name": "ipython",
    "version": 3
   },
   "file_extension": ".py",
   "mimetype": "text/x-python",
   "name": "python",
   "nbconvert_exporter": "python",
   "pygments_lexer": "ipython3",
   "version": "3.7.1"
  }
 },
 "nbformat": 4,
 "nbformat_minor": 2
}
