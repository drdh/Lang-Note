{
 "cells": [
  {
   "cell_type": "markdown",
   "metadata": {},
   "source": [
    "# Chapter 1: Introduction."
   ]
  },
  {
   "cell_type": "code",
   "execution_count": 3,
   "metadata": {},
   "outputs": [
    {
     "data": {
      "text/plain": [
       "[3, 2, 1, 1]"
      ]
     },
     "execution_count": 3,
     "metadata": {},
     "output_type": "execute_result"
    }
   ],
   "source": [
    "num=[1,2,3]\n",
    "num.insert(0,1)\n",
    "num.reverse()\n",
    "num"
   ]
  },
  {
   "cell_type": "markdown",
   "metadata": {},
   "source": [
    "#  Chapter 2: The Basics"
   ]
  },
  {
   "cell_type": "markdown",
   "metadata": {},
   "source": [
    "## Implementing Graphs and Trees"
   ]
  },
  {
   "cell_type": "markdown",
   "metadata": {},
   "source": [
    "#### Adjacency Lists and the Like"
   ]
  },
  {
   "cell_type": "code",
   "execution_count": 6,
   "metadata": {},
   "outputs": [
    {
     "data": {
      "text/plain": [
       "8510315999750275664"
      ]
     },
     "execution_count": 6,
     "metadata": {},
     "output_type": "execute_result"
    }
   ],
   "source": [
    "hash(\"1\")"
   ]
  },
  {
   "cell_type": "code",
   "execution_count": 12,
   "metadata": {},
   "outputs": [
    {
     "data": {
      "text/plain": [
       "{2, 4}"
      ]
     },
     "execution_count": 12,
     "metadata": {},
     "output_type": "execute_result"
    }
   ],
   "source": [
    "# A Straightforward Adjacency Set Representation\n",
    "a, b, c, d, e, f, g, h = range(8)\n",
    "N = [\n",
    "{b, c, d, e, f},# a\n",
    "{c, e},# b\n",
    "{d},# c\n",
    "{e},# d\n",
    "{f},# e\n",
    "{c, g, h},# f\n",
    "{f, h},# g\n",
    "{f, g}# h\n",
    "]\n",
    "\n",
    "N[b]"
   ]
  },
  {
   "cell_type": "code",
   "execution_count": 13,
   "metadata": {},
   "outputs": [
    {
     "data": {
      "text/plain": [
       "[2, 4]"
      ]
     },
     "execution_count": 13,
     "metadata": {},
     "output_type": "execute_result"
    }
   ],
   "source": [
    "# Adjacency Lists\n",
    "a, b, c, d, e, f, g, h = range(8)\n",
    "N = [\n",
    "[b, c, d, e, f],# a\n",
    "[c, e],# b\n",
    "[d],# c\n",
    "[e],# d\n",
    "[f],# e\n",
    "[c, g, h],# f\n",
    "[f, h],# g\n",
    "[f, g]# h\n",
    "]\n",
    "\n",
    "N[b]"
   ]
  },
  {
   "cell_type": "code",
   "execution_count": 14,
   "metadata": {},
   "outputs": [
    {
     "data": {
      "text/plain": [
       "{2: 4, 4: 3}"
      ]
     },
     "execution_count": 14,
     "metadata": {},
     "output_type": "execute_result"
    }
   ],
   "source": [
    "#  Adjacency dicts with Edge Weights\n",
    "a, b, c, d, e, f, g, h = range(8)\n",
    "N = [\n",
    "{b:2, c:1, d:3, e:9, f:4},# a\n",
    "{c:4, e:3},# b\n",
    "{d:8},# c\n",
    "{e:7},# d\n",
    "{f:5},# e\n",
    "{c:2, g:2, h:2},# f\n",
    "{f:1, h:6},# g\n",
    "{f:9, g:8}# h\n",
    "]\n",
    "\n",
    "N[b]"
   ]
  },
  {
   "cell_type": "code",
   "execution_count": 15,
   "metadata": {},
   "outputs": [
    {
     "data": {
      "text/plain": [
       "{'c', 'e'}"
      ]
     },
     "execution_count": 15,
     "metadata": {},
     "output_type": "execute_result"
    }
   ],
   "source": [
    "# A Dict with Adjacency Sets\n",
    "N = {\n",
    "'a':set('bcdef'),\n",
    "'b':set('ce'),\n",
    "'c':set('d'),\n",
    "'d':set('e'),\n",
    "'e':set('f'),\n",
    "'f':set('cgh'),\n",
    "'g':set('fh'),\n",
    "'h':set('fg')\n",
    "}\n",
    "N['b']"
   ]
  },
  {
   "cell_type": "markdown",
   "metadata": {},
   "source": [
    "#### Adjacency Matrices"
   ]
  },
  {
   "cell_type": "code",
   "execution_count": 18,
   "metadata": {},
   "outputs": [
    {
     "data": {
      "text/plain": [
       "2"
      ]
     },
     "execution_count": 18,
     "metadata": {},
     "output_type": "execute_result"
    }
   ],
   "source": [
    "# An Adjacency Matrix, Implemented with Nested Lists\n",
    "a, b, c, d, e, f, g, h = range(8)# a b c d e f g h\n",
    "N = [[0,1,1,1,1,1,0,0],# a\n",
    "[0,0,1,0,1,0,0,0], # b\n",
    "[0,0,0,1,0,0,0,0], # c\n",
    "[0,0,0,0,1,0,0,0], # d\n",
    "[0,0,0,0,0,1,0,0], # e\n",
    "[0,0,1,0,0,0,1,1], # f\n",
    "[0,0,0,0,0,1,0,1], # g\n",
    "[0,0,0,0,0,1,1,0]] # h\n",
    "\n",
    "sum(N[b])"
   ]
  },
  {
   "cell_type": "code",
   "execution_count": null,
   "metadata": {},
   "outputs": [],
   "source": [
    "#  A Weight Matrix with Infinite Weight for Missing Edges\n"
   ]
  },
  {
   "cell_type": "code",
   "execution_count": 26,
   "metadata": {},
   "outputs": [
    {
     "data": {
      "text/plain": [
       "[inf, 0, 4, inf, 3, inf, inf, inf]"
      ]
     },
     "execution_count": 26,
     "metadata": {},
     "output_type": "execute_result"
    }
   ],
   "source": [
    "a, b, c, d, e, f, g, h = range(8)\n",
    "_ = float('inf')\n",
    "#a b c d e f g h\n",
    "W = [\n",
    "[0,2,1,3,9,4,_,_], # a\n",
    "[_,0,4,_,3,_,_,_], # b\n",
    "[_,_,0,8,_,_,_,_], # c\n",
    "[_,_,_,0,7,_,_,_], # d\n",
    "[_,_,_,_,0,5,_,_], # e\n",
    "[_,_,2,_,_,0,2,2], # f\n",
    "[_,_,_,_,_,1,0,6], # g\n",
    "[_,_,_,_,_,9,8,0]] # h\n",
    "\n",
    "W[b]"
   ]
  },
  {
   "cell_type": "markdown",
   "metadata": {},
   "source": [
    "#### Implementing Trees"
   ]
  },
  {
   "cell_type": "code",
   "execution_count": 27,
   "metadata": {},
   "outputs": [
    {
     "data": {
      "text/plain": [
       "'e'"
      ]
     },
     "execution_count": 27,
     "metadata": {},
     "output_type": "execute_result"
    }
   ],
   "source": [
    "T = [[\"a\", \"b\"], [\"c\"], [\"d\", [\"e\", \"f\"]]]\n",
    "\n",
    "T[2][1][0]"
   ]
  },
  {
   "cell_type": "code",
   "execution_count": 28,
   "metadata": {},
   "outputs": [
    {
     "data": {
      "text/plain": [
       "'c'"
      ]
     },
     "execution_count": 28,
     "metadata": {},
     "output_type": "execute_result"
    }
   ],
   "source": [
    "#  A Binary Tree Class\n",
    "class Tree:\n",
    "    def __init__(self, left, right):\n",
    "        self.left = left\n",
    "        self.right = right\n",
    "\n",
    "t = Tree(Tree(\"a\", \"b\"), Tree(\"c\", \"d\"))\n",
    "t.right.left"
   ]
  },
  {
   "cell_type": "code",
   "execution_count": null,
   "metadata": {},
   "outputs": [],
   "source": [
    "#  A Multiway Tree Class\n",
    "class Tree:\n",
    "    def __init__(self, kids, next=None):\n",
    "        self.kids = self.val = kids\n",
    "        self.next = next\n"
   ]
  },
  {
   "cell_type": "code",
   "execution_count": null,
   "metadata": {},
   "outputs": [],
   "source": []
  },
  {
   "cell_type": "markdown",
   "metadata": {},
   "source": [
    "#  Chapter 3: Counting 101"
   ]
  },
  {
   "cell_type": "markdown",
   "metadata": {},
   "source": [
    "#  Chapter 4: Induction and Recursion ... and Reduction."
   ]
  },
  {
   "cell_type": "markdown",
   "metadata": {},
   "source": [
    "#  Chapter 5: Traversal: The Skeleton Key of Algorithmics ."
   ]
  },
  {
   "cell_type": "markdown",
   "metadata": {},
   "source": [
    "#  Chapter 6: Divide, Combine, and Conquer"
   ]
  },
  {
   "cell_type": "markdown",
   "metadata": {},
   "source": [
    "#  Chapter 7: Greed Is Good? Prove It!."
   ]
  },
  {
   "cell_type": "markdown",
   "metadata": {},
   "source": [
    "#  Chapter 8: Tangled Dependencies and Memoization"
   ]
  },
  {
   "cell_type": "markdown",
   "metadata": {},
   "source": [
    "#  Chapter 9: From A to B with Edsger and Friends"
   ]
  },
  {
   "cell_type": "markdown",
   "metadata": {},
   "source": [
    "# Chapter 9: From A to B with Edsger and Friends"
   ]
  },
  {
   "cell_type": "markdown",
   "metadata": {},
   "source": [
    "#  Chapter 10: Matchings, Cuts, and Flows "
   ]
  },
  {
   "cell_type": "markdown",
   "metadata": {},
   "source": [
    "#  Chapter 11: Hard Problems and (Limited) Sloppiness "
   ]
  },
  {
   "cell_type": "code",
   "execution_count": null,
   "metadata": {},
   "outputs": [],
   "source": []
  }
 ],
 "metadata": {
  "kernelspec": {
   "display_name": "Python 3",
   "language": "python",
   "name": "python3"
  },
  "language_info": {
   "codemirror_mode": {
    "name": "ipython",
    "version": 3
   },
   "file_extension": ".py",
   "mimetype": "text/x-python",
   "name": "python",
   "nbconvert_exporter": "python",
   "pygments_lexer": "ipython3",
   "version": "3.7.1"
  }
 },
 "nbformat": 4,
 "nbformat_minor": 2
}
