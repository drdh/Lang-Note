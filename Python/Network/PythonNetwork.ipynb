{
 "cells": [
  {
   "cell_type": "markdown",
   "metadata": {},
   "source": [
    "# Chapter1"
   ]
  },
  {
   "cell_type": "markdown",
   "metadata": {},
   "source": [
    "### 主机名-->IP地址"
   ]
  },
  {
   "cell_type": "code",
   "execution_count": 2,
   "metadata": {
    "scrolled": true
   },
   "outputs": [
    {
     "name": "stdout",
     "output_type": "stream",
     "text": [
      "The IP address of maps.google.com is 108.177.103.163\n"
     ]
    }
   ],
   "source": [
    "import socket\n",
    "hostname = 'maps.google.com'\n",
    "addr = socket.gethostbyname(hostname)\n",
    "print('The IP address of {} is {}'.format(hostname, addr))"
   ]
  },
  {
   "cell_type": "markdown",
   "metadata": {},
   "source": [
    "### IP地址\n",
    "IPv4 4字节IP\n",
    "  \n",
    "    `127.*.*.*` 预留本地程序使用\n",
    "  \n",
    "    `127.0.0.1` localhost\n",
    "     \n",
    "    IP地址与掩码表示子网\n",
    "    \n",
    "    127.0.0.0/8 前8位为127，后面任意值\n",
    "    \n",
    "    192.168.0.0/16\n",
    "    \n",
    "    192.168.5.0/24\n",
    "  \n",
    "IPv6 16字节"
   ]
  },
  {
   "cell_type": "markdown",
   "metadata": {},
   "source": [
    "# Chapter2 UDP"
   ]
  },
  {
   "cell_type": "markdown",
   "metadata": {},
   "source": [
    "## 端口号\n",
    "16bits 无符号数 0~65536\n",
    "\n",
    "Source (IP : port number) --> Destination (IP : port number)\n",
    "\n",
    "DNS 默认端口53  0~1023 分配给最重要服务\n",
    "\n",
    "使用`more /etc/services`来查看"
   ]
  },
  {
   "cell_type": "code",
   "execution_count": 6,
   "metadata": {},
   "outputs": [
    {
     "data": {
      "text/plain": [
       "53"
      ]
     },
     "execution_count": 6,
     "metadata": {},
     "output_type": "execute_result"
    }
   ],
   "source": [
    "socket.getservbyname(\"domain\") #查询域名服务的端口号"
   ]
  },
  {
   "cell_type": "markdown",
   "metadata": {},
   "source": [
    "## 套接字\n",
    "[python--threading多线程总结](https://www.cnblogs.com/tkqasn/p/5700281.html)"
   ]
  },
  {
   "cell_type": "markdown",
   "metadata": {},
   "source": [
    "```python\n",
    "#!/usr/bin/env python3\n",
    "# Foundations of Python Network Programming, Third Edition\n",
    "# https://github.com/brandon-rhodes/fopnp/blob/m/py3/chapter02/udp_local.py\n",
    "# UDP client and server on localhost\n",
    "\n",
    "import argparse, socket\n",
    "from datetime import datetime\n",
    "\n",
    "MAX_BYTES = 65535\n",
    "\n",
    "def server(port):\n",
    "    sock = socket.socket(socket.AF_INET, socket.SOCK_DGRAM)\n",
    "    sock.bind(('127.0.0.1', port))\n",
    "    print('Listening at {}'.format(sock.getsockname()))\n",
    "    while True:\n",
    "        data, address = sock.recvfrom(MAX_BYTES)\n",
    "        text = data.decode('ascii')\n",
    "        print('The client at {} says {!r}'.format(address, text))\n",
    "        text = 'Your data was {} bytes long'.format(len(data))\n",
    "        data = text.encode('ascii')\n",
    "        sock.sendto(data, address)\n",
    "\n",
    "def client(port):\n",
    "    sock = socket.socket(socket.AF_INET, socket.SOCK_DGRAM)\n",
    "    text = 'The time is {}'.format(datetime.now())\n",
    "    data = text.encode('ascii')\n",
    "    sock.sendto(data, ('127.0.0.1', port))\n",
    "    print('The OS assigned me the address {}'.format(sock.getsockname()))\n",
    "    data, address = sock.recvfrom(MAX_BYTES)  # Danger! See Chapter 2\n",
    "    text = data.decode('ascii')\n",
    "    print('The server {} replied {!r}'.format(address, text))\n",
    "\n",
    "if __name__ == '__main__':\n",
    "    choices = {'client': client, 'server': server}\n",
    "    parser = argparse.ArgumentParser(description='Send and receive UDP locally')\n",
    "    parser.add_argument('role', choices=choices, help='which role to play')\n",
    "    parser.add_argument('-p', metavar='PORT', type=int, default=1060,\n",
    "                        help='UDP port (default 1060)')\n",
    "    args = parser.parse_args()\n",
    "    function = choices[args.role]\n",
    "    function(args.p)\n",
    "```"
   ]
  },
  {
   "cell_type": "code",
   "execution_count": 2,
   "metadata": {},
   "outputs": [
    {
     "name": "stdout",
     "output_type": "stream",
     "text": [
      "Listening at ('127.0.0.1', 1065)\n",
      "The OS assigned me the address ('0.0.0.0', 36341)\n",
      "The client at ('127.0.0.1', 47420) says 'The time is 2018-10-11 18:08:18.474081'\n",
      "The OS assigned me the address ('0.0.0.0', 47420)\n",
      "The server ('127.0.0.1', 1065) replied 'Your data was 38 bytes long'\n"
     ]
    }
   ],
   "source": [
    "import threading\n",
    "threads=[]\n",
    "t1=threading.Thread(target=server,args=(1065,))\n",
    "t2=threading.Thread(target=client,args=(1065,))\n",
    "t3=threading.Thread(target=client,args=(1065,))\n",
    "\n",
    "threads.append(t1)\n",
    "threads.append(t2)\n",
    "threads.append(t3)\n",
    "\n",
    "for t in threads:\n",
    "    t.setDaemon(True)\n",
    "    t.start()"
   ]
  },
  {
   "cell_type": "code",
   "execution_count": 3,
   "metadata": {},
   "outputs": [
    {
     "data": {
      "text/plain": [
       "7"
      ]
     },
     "execution_count": 3,
     "metadata": {},
     "output_type": "execute_result"
    }
   ],
   "source": [
    "threading.active_count()"
   ]
  },
  {
   "cell_type": "code",
   "execution_count": 4,
   "metadata": {},
   "outputs": [
    {
     "data": {
      "text/plain": [
       "True"
      ]
     },
     "execution_count": 4,
     "metadata": {},
     "output_type": "execute_result"
    }
   ],
   "source": [
    "socket.has_ipv6"
   ]
  },
  {
   "cell_type": "code",
   "execution_count": null,
   "metadata": {},
   "outputs": [],
   "source": []
  },
  {
   "cell_type": "markdown",
   "metadata": {},
   "source": [
    "# Chapter 4 套接字名与DNS"
   ]
  },
  {
   "cell_type": "markdown",
   "metadata": {},
   "source": [
    "## 4.1 主机名与套接字"
   ]
  },
  {
   "cell_type": "markdown",
   "metadata": {},
   "source": [
    "#### 主要socket方法"
   ]
  },
  {
   "cell_type": "code",
   "execution_count": null,
   "metadata": {},
   "outputs": [],
   "source": []
  },
  {
   "cell_type": "code",
   "execution_count": null,
   "metadata": {},
   "outputs": [],
   "source": []
  }
 ],
 "metadata": {
  "kernelspec": {
   "display_name": "Python 3",
   "language": "python",
   "name": "python3"
  },
  "language_info": {
   "codemirror_mode": {
    "name": "ipython",
    "version": 3
   },
   "file_extension": ".py",
   "mimetype": "text/x-python",
   "name": "python",
   "nbconvert_exporter": "python",
   "pygments_lexer": "ipython3",
   "version": "3.7.0"
  }
 },
 "nbformat": 4,
 "nbformat_minor": 2
}
